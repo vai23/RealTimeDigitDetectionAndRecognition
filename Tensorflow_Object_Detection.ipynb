{
  "nbformat": 4,
  "nbformat_minor": 0,
  "metadata": {
    "colab": {
      "name": "Tensorflow_Object_Detection.ipynb",
      "version": "0.3.2",
      "provenance": [],
      "collapsed_sections": []
    },
    "kernelspec": {
      "name": "python3",
      "display_name": "Python 3"
    },
    "accelerator": "GPU"
  },
  "cells": [
    {
      "cell_type": "markdown",
      "metadata": {
        "id": "rQk1phZAipwU",
        "colab_type": "text"
      },
      "source": [
        "# Tensorflow Object Detection "
      ]
    },
    {
      "cell_type": "markdown",
      "metadata": {
        "id": "ojCbCVHriw9e",
        "colab_type": "text"
      },
      "source": [
        "Cloning TensorFlow Object Detection API repository from GitHub and installing required python libraries"
      ]
    },
    {
      "cell_type": "code",
      "metadata": {
        "id": "IGKr3kFvQHJs",
        "colab_type": "code",
        "colab": {}
      },
      "source": [
        "!git clone --quiet https://github.com/tensorflow/models.git\n",
        "    \n",
        "!apt-get install -qq protobuf-compiler python-tk\n",
        "\n",
        "!pip install -q Cython contextlib2 pillow lxml matplotlib PyDrive"
      ],
      "execution_count": 0,
      "outputs": []
    },
    {
      "cell_type": "code",
      "metadata": {
        "id": "Rgom5_c5QKsJ",
        "colab_type": "code",
        "outputId": "330bd128-ddbf-4098-97ab-4d0d0a24876e",
        "colab": {
          "base_uri": "https://localhost:8080/",
          "height": 403
        }
      },
      "source": [
        "%cd /content/models/research\n",
        "\n",
        "!protoc object_detection/protos/*.proto --python_out=.\n",
        "\n",
        "import os\n",
        "os.environ['PYTHONPATH'] += ':/content/models/research/:/content/models/research/slim/:/content/models/'\n",
        "\n",
        "%cd object_detection\n",
        "\n",
        "!wget http://download.tensorflow.org/models/object_detection/faster_rcnn_inception_v2_coco_2018_01_28.tar.gz\n",
        "    \n",
        "!tar xvzf faster_rcnn_inception_v2_coco_2018_01_28.tar.gz"
      ],
      "execution_count": 0,
      "outputs": [
        {
          "output_type": "stream",
          "text": [
            "/content/models/research\n",
            "/content/models/research/object_detection\n",
            "--2019-06-06 09:35:03--  http://download.tensorflow.org/models/object_detection/faster_rcnn_inception_v2_coco_2018_01_28.tar.gz\n",
            "Resolving download.tensorflow.org (download.tensorflow.org)... 74.125.141.128, 2607:f8b0:400c:c06::80\n",
            "Connecting to download.tensorflow.org (download.tensorflow.org)|74.125.141.128|:80... connected.\n",
            "HTTP request sent, awaiting response... 200 OK\n",
            "Length: 149119618 (142M) [application/x-tar]\n",
            "Saving to: ‘faster_rcnn_inception_v2_coco_2018_01_28.tar.gz.1’\n",
            "\n",
            "faster_rcnn_incepti 100%[===================>] 142.21M   180MB/s    in 0.8s    \n",
            "\n",
            "2019-06-06 09:35:04 (180 MB/s) - ‘faster_rcnn_inception_v2_coco_2018_01_28.tar.gz.1’ saved [149119618/149119618]\n",
            "\n",
            "faster_rcnn_inception_v2_coco_2018_01_28/\n",
            "faster_rcnn_inception_v2_coco_2018_01_28/model.ckpt.index\n",
            "faster_rcnn_inception_v2_coco_2018_01_28/checkpoint\n",
            "faster_rcnn_inception_v2_coco_2018_01_28/pipeline.config\n",
            "faster_rcnn_inception_v2_coco_2018_01_28/model.ckpt.data-00000-of-00001\n",
            "faster_rcnn_inception_v2_coco_2018_01_28/model.ckpt.meta\n",
            "faster_rcnn_inception_v2_coco_2018_01_28/saved_model/\n",
            "faster_rcnn_inception_v2_coco_2018_01_28/saved_model/saved_model.pb\n",
            "faster_rcnn_inception_v2_coco_2018_01_28/saved_model/variables/\n",
            "faster_rcnn_inception_v2_coco_2018_01_28/frozen_inference_graph.pb\n"
          ],
          "name": "stdout"
        }
      ]
    },
    {
      "cell_type": "code",
      "metadata": {
        "id": "Vzis59cWVPlE",
        "colab_type": "code",
        "outputId": "1e9cf1e2-08a1-4def-b9cf-b432adcdc93e",
        "colab": {
          "base_uri": "https://localhost:8080/",
          "height": 386
        }
      },
      "source": [
        "!wget http://ufldl.stanford.edu/housenumbers/train.tar.gz\n",
        "!wget http://ufldl.stanford.edu/housenumbers/test.tar.gz\n",
        "# !wget http://ufldl.stanford.edu/housenumbers/extra.tar.gz"
      ],
      "execution_count": 0,
      "outputs": [
        {
          "output_type": "stream",
          "text": [
            "--2019-06-06 09:35:13--  http://ufldl.stanford.edu/housenumbers/train.tar.gz\n",
            "Resolving ufldl.stanford.edu (ufldl.stanford.edu)... 171.64.68.10\n",
            "Connecting to ufldl.stanford.edu (ufldl.stanford.edu)|171.64.68.10|:80... connected.\n",
            "HTTP request sent, awaiting response... 200 OK\n",
            "Length: 404141560 (385M) [application/x-gzip]\n",
            "Saving to: ‘train.tar.gz’\n",
            "\n",
            "train.tar.gz        100%[===================>] 385.42M  16.6MB/s    in 20s     \n",
            "\n",
            "2019-06-06 09:35:33 (19.4 MB/s) - ‘train.tar.gz’ saved [404141560/404141560]\n",
            "\n",
            "--2019-06-06 09:35:36--  http://ufldl.stanford.edu/housenumbers/test.tar.gz\n",
            "Resolving ufldl.stanford.edu (ufldl.stanford.edu)... 171.64.68.10\n",
            "Connecting to ufldl.stanford.edu (ufldl.stanford.edu)|171.64.68.10|:80... connected.\n",
            "HTTP request sent, awaiting response... 200 OK\n",
            "Length: 276555967 (264M) [application/x-gzip]\n",
            "Saving to: ‘test.tar.gz’\n",
            "\n",
            "test.tar.gz         100%[===================>] 263.74M  26.0MB/s    in 11s     \n",
            "\n",
            "2019-06-06 09:35:47 (23.6 MB/s) - ‘test.tar.gz’ saved [276555967/276555967]\n",
            "\n"
          ],
          "name": "stdout"
        }
      ]
    },
    {
      "cell_type": "code",
      "metadata": {
        "id": "5i8l9khvW1el",
        "colab_type": "code",
        "colab": {}
      },
      "source": [
        "!tar xvzf train.tar.gz\n",
        "!tar xvzf test.tar.gz\n",
        "# !tar xvzf extra.tar.gz"
      ],
      "execution_count": 0,
      "outputs": []
    },
    {
      "cell_type": "code",
      "metadata": {
        "id": "EQfqm67MXZqk",
        "colab_type": "code",
        "colab": {}
      },
      "source": [
        "import os \n",
        "os.remove('train.tar.gz')\n",
        "os.remove('test.tar.gz')\n",
        "os.remove('faster_rcnn_inception_v2_coco_2018_01_28.tar.gz')\n",
        "# os.remove('extra.tar.gz')"
      ],
      "execution_count": 0,
      "outputs": []
    },
    {
      "cell_type": "code",
      "metadata": {
        "id": "vCcfIRd2YFXk",
        "colab_type": "code",
        "outputId": "8d98c453-4a47-437a-9427-2c9cfa239e79",
        "colab": {
          "base_uri": "https://localhost:8080/",
          "height": 50
        }
      },
      "source": [
        "import glob\n",
        "print('TRAIN IMAGES:', len(glob.glob('train/*.png')))\n",
        "print('TEST IMAGES:', len(glob.glob('test/*.png')))\n",
        "# print('EXTRA IMAGES:', len(glob.glob('extra/*.png')))"
      ],
      "execution_count": 0,
      "outputs": [
        {
          "output_type": "stream",
          "text": [
            "TRAIN IMAGES: 33402\n",
            "TEST IMAGES: 13068\n"
          ],
          "name": "stdout"
        }
      ]
    },
    {
      "cell_type": "code",
      "metadata": {
        "id": "YfMRRZCBiBVJ",
        "colab_type": "code",
        "outputId": "166e05a3-7a33-4bdf-8a0d-5e49f3856bc3",
        "colab": {
          "base_uri": "https://localhost:8080/",
          "height": 84
        }
      },
      "source": [
        "%cd ..\n",
        "%cd ..\n",
        "%cd ..\n",
        "%cp mat_to_xml.py models/research/object_detection\n",
        "%cp remove_erroneous_files.py models/research/object_detection\n",
        "%cp xml_to_csv.py models/research/object_detection\n",
        "%cp make_tfrecord.py models/research/object_detection\n",
        "%cp label_map.pbtxt models/research/object_detection\n",
        "%cp faster_rcnn_inception_v2_pets.config models/research/object_detection\n",
        "%cd models/research/object_detection"
      ],
      "execution_count": 0,
      "outputs": [
        {
          "output_type": "stream",
          "text": [
            "/content/models/research\n",
            "/content/models\n",
            "/content\n",
            "/content/models/research/object_detection\n"
          ],
          "name": "stdout"
        }
      ]
    },
    {
      "cell_type": "markdown",
      "metadata": {
        "id": "G44JBsR0tg6A",
        "colab_type": "text"
      },
      "source": [
        ""
      ]
    },
    {
      "cell_type": "code",
      "metadata": {
        "id": "Mjoiu2v1oN0v",
        "colab_type": "code",
        "outputId": "819aaab1-731a-4e29-dc24-c37baa8d2211",
        "colab": {
          "base_uri": "https://localhost:8080/",
          "height": 50
        }
      },
      "source": [
        "!python mat_to_xml.py --image_dir=train --mat_dir=train --mat_file_name=digitStruct.mat\n",
        "!python mat_to_xml.py --image_dir=test --mat_dir=test --mat_file_name=digitStruct.mat\n",
        "# !python mat_to_xml.py --image_dir=extra --mat_dir=extra --mat_file_name=digitStruct.mat"
      ],
      "execution_count": 0,
      "outputs": [
        {
          "output_type": "stream",
          "text": [
            "PASCAL VOC xml of 33402 images created\n",
            "PASCAL VOC xml of 13068 images created\n"
          ],
          "name": "stdout"
        }
      ]
    },
    {
      "cell_type": "code",
      "metadata": {
        "id": "2umO64Cbo__X",
        "colab_type": "code",
        "outputId": "80528ebb-7602-4dbb-ce04-29d7b691b9a8",
        "colab": {
          "base_uri": "https://localhost:8080/",
          "height": 50
        }
      },
      "source": [
        "!python remove_erroneous_files.py --xml_dir=test\n",
        "!python remove_erroneous_files.py --xml_dir=train"
      ],
      "execution_count": 0,
      "outputs": [
        {
          "output_type": "stream",
          "text": [
            "DONE\n",
            "DONE\n"
          ],
          "name": "stdout"
        }
      ]
    },
    {
      "cell_type": "code",
      "metadata": {
        "id": "A1tq60B4xnbU",
        "colab_type": "code",
        "outputId": "74f39278-ef5f-4fdf-a138-805c32e6f20b",
        "colab": {
          "base_uri": "https://localhost:8080/",
          "height": 50
        }
      },
      "source": [
        "import os\n",
        "if not os.path.exists('csv_files'):\n",
        "    os.mkdir('csv_files')\n",
        "!python3 xml_to_csv.py --xml_dir=test --output_dir=csv_files --filename=test.csv\n",
        "!python3 xml_to_csv.py --xml_dir=train --output_dir=csv_files --filename=train.csv"
      ],
      "execution_count": 0,
      "outputs": [
        {
          "output_type": "stream",
          "text": [
            "test.csv created successfully\n",
            "train.csv created successfully\n"
          ],
          "name": "stdout"
        }
      ]
    },
    {
      "cell_type": "code",
      "metadata": {
        "id": "mVQhTMQwyOgN",
        "colab_type": "code",
        "outputId": "d6657137-6705-4763-e418-560e14435f22",
        "colab": {
          "base_uri": "https://localhost:8080/",
          "height": 50
        }
      },
      "source": [
        "!python make_tfrecord.py --csv_input=csv_files/train.csv --image_dir=train --output_path=train.record\n",
        "!python make_tfrecord.py --csv_input=csv_files/test.csv --image_dir=test --output_path=test.record"
      ],
      "execution_count": 0,
      "outputs": [
        {
          "output_type": "stream",
          "text": [
            "Successfully created the TFRecords: /content/models/research/object_detection/train.record\n",
            "Successfully created the TFRecords: /content/models/research/object_detection/test.record\n"
          ],
          "name": "stdout"
        }
      ]
    },
    {
      "cell_type": "code",
      "metadata": {
        "id": "YBn4WsDWImNR",
        "colab_type": "code",
        "colab": {}
      },
      "source": [
        "%cp legacy/train.py ."
      ],
      "execution_count": 0,
      "outputs": []
    },
    {
      "cell_type": "code",
      "metadata": {
        "id": "UGNCgWJ21B7F",
        "colab_type": "code",
        "colab": {}
      },
      "source": [
        "!python3 train.py --logtostderr --train_dir=training/ --pipeline_config_path=faster_rcnn_inception_v2_pets.config"
      ],
      "execution_count": 0,
      "outputs": []
    },
    {
      "cell_type": "code",
      "metadata": {
        "id": "Zes7eqHqV6M1",
        "colab_type": "code",
        "colab": {}
      },
      "source": [
        "!python export_inference_graph.py --input_type image_tensor --pipeline_config_path faster_rcnn_inception_v2_pets.config \\\n",
        "--trained_checkpoint_prefix training/model.ckpt-46810 --output_directory infm8"
      ],
      "execution_count": 0,
      "outputs": []
    },
    {
      "cell_type": "code",
      "metadata": {
        "id": "Efnf-iR-XQDv",
        "colab_type": "code",
        "outputId": "933229f8-8630-41cd-8e4f-32c1b92a410f",
        "colab": {
          "base_uri": "https://localhost:8080/",
          "height": 84
        }
      },
      "source": [
        "%cd ..\n",
        "%cd ..\n",
        "%cd ..\n",
        "%cp export.png models/research/object_detection\n",
        "%cp export1.png models/research/object_detection\n",
        "%cd models/research/object_detection"
      ],
      "execution_count": 0,
      "outputs": [
        {
          "output_type": "stream",
          "text": [
            "/content/models/research\n",
            "/content/models\n",
            "/content\n",
            "/content/models/research/object_detection\n"
          ],
          "name": "stdout"
        }
      ]
    },
    {
      "cell_type": "code",
      "metadata": {
        "id": "6CowfEJCWXjB",
        "colab_type": "code",
        "outputId": "32adddf0-7e3c-4d6a-d83b-ff7d18ba3f94",
        "colab": {
          "base_uri": "https://localhost:8080/",
          "height": 666
        }
      },
      "source": [
        "# Import packages\n",
        "import os\n",
        "import cv2\n",
        "import numpy as np\n",
        "import tensorflow as tf\n",
        "import sys\n",
        "import matplotlib.pyplot as plt\n",
        "\n",
        "%matplotlib inline\n",
        "\n",
        "# This is needed since the notebook is stored in the object_detection folder.\n",
        "sys.path.append(\"..\")\n",
        "\n",
        "# Import utilites\n",
        "from utils import label_map_util\n",
        "from utils import visualization_utils as vis_util\n",
        "\n",
        "# Name of the directory containing the object detection module we're using\n",
        "MODEL_NAME = 'infm8'\n",
        "IMAGE_NAME = 'export1.png'\n",
        "\n",
        "# Grab path to current working directory\n",
        "CWD_PATH = os.getcwd()\n",
        "\n",
        "# Path to frozen detection graph .pb file, which contains the model that is used\n",
        "# for object detection.\n",
        "PATH_TO_CKPT = os.path.join(CWD_PATH, MODEL_NAME, 'frozen_inference_graph.pb')\n",
        "\n",
        "# Path to label map file\n",
        "PATH_TO_LABELS = os.path.join(CWD_PATH, 'label_map.pbtxt')\n",
        "\n",
        "# Path to image\n",
        "PATH_TO_IMAGE = os.path.join(CWD_PATH, IMAGE_NAME)\n",
        "\n",
        "# Number of classes the object detector can identify\n",
        "NUM_CLASSES = 10\n",
        "\n",
        "# Load the label map.\n",
        "# Label maps map indices to category names, so that when our convolution\n",
        "# network predicts `5`, we know that this corresponds to `king`.\n",
        "# Here we use internal utility functions, but anything that returns a\n",
        "# dictionary mapping integers to appropriate string labels would be fine\n",
        "label_map = label_map_util.load_labelmap(PATH_TO_LABELS)\n",
        "categories = label_map_util.convert_label_map_to_categories(label_map, max_num_classes=NUM_CLASSES,\n",
        "                                                            use_display_name=True)\n",
        "category_index = label_map_util.create_category_index(categories)\n",
        "\n",
        "# Load the Tensorflow model into memory.\n",
        "detection_graph = tf.Graph()\n",
        "with detection_graph.as_default():\n",
        "    od_graph_def = tf.GraphDef()\n",
        "    with tf.gfile.GFile(PATH_TO_CKPT, 'rb') as fid:\n",
        "        serialized_graph = fid.read()\n",
        "        od_graph_def.ParseFromString(serialized_graph)\n",
        "        tf.import_graph_def(od_graph_def, name='')\n",
        "\n",
        "    sess = tf.Session(graph=detection_graph)\n",
        "\n",
        "# Define input and output tensors (i.e. data) for the object detection classifier\n",
        "\n",
        "# Input tensor is the image\n",
        "image_tensor = detection_graph.get_tensor_by_name('image_tensor:0')\n",
        "\n",
        "# Output tensors are the detection boxes, scores, and classes\n",
        "# Each box represents a part of the image where a particular object was detected\n",
        "detection_boxes = detection_graph.get_tensor_by_name('detection_boxes:0')\n",
        "\n",
        "# Each score represents level of confidence for each of the objects.\n",
        "# The score is shown on the result image, together with the class label.\n",
        "detection_scores = detection_graph.get_tensor_by_name('detection_scores:0')\n",
        "detection_classes = detection_graph.get_tensor_by_name('detection_classes:0')\n",
        "\n",
        "# Number of objects detected\n",
        "num_detections = detection_graph.get_tensor_by_name('num_detections:0')\n",
        "\n",
        "# Load image using OpenCV and\n",
        "# expand image dimensions to have shape: [1, None, None, 3]\n",
        "# i.e. a single-column array, where each item in the column has the pixel RGB value\n",
        "image = cv2.imread(PATH_TO_IMAGE)\n",
        "image_expanded = np.expand_dims(image, axis=0)\n",
        "\n",
        "# Perform the actual detection by running the model with the image as input\n",
        "(boxes, scores, classes, num) = sess.run(\n",
        "    [detection_boxes, detection_scores, detection_classes, num_detections],\n",
        "    feed_dict={image_tensor: image_expanded})\n",
        "\n",
        "# Draw the results of the detection (aka 'visulaize the results')\n",
        "\n",
        "vis_util.visualize_boxes_and_labels_on_image_array(\n",
        "    image,\n",
        "    np.squeeze(boxes),\n",
        "    np.squeeze(classes).astype(np.int32),\n",
        "    np.squeeze(scores),\n",
        "    category_index,\n",
        "    use_normalized_coordinates=True,\n",
        "    line_thickness=8,\n",
        "    min_score_thresh=0.60)\n",
        "\n",
        "# All the results have been drawn on image. Now display the image.\n",
        "plt.rcParams['figure.figsize'] = [18,11]\n",
        "plt.imshow(image)\n"
      ],
      "execution_count": 0,
      "outputs": [
        {
          "output_type": "execute_result",
          "data": {
            "text/plain": [
              "<matplotlib.image.AxesImage at 0x7fcd66bee240>"
            ]
          },
          "metadata": {
            "tags": []
          },
          "execution_count": 79
        },
        {
          "output_type": "display_data",
          "data": {
            "image/png": "[encoded data removed]",
            "text/plain": [
              "<Figure size 1296x792 with 1 Axes>"
            ]
          },
          "metadata": {
            "tags": []
          }
        }
      ]
    }
  ]
}